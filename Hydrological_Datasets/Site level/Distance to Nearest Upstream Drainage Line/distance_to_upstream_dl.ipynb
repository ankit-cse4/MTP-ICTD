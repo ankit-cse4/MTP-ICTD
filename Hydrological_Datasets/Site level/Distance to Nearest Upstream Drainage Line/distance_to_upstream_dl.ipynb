{
 "cells": [
  {
   "cell_type": "code",
   "execution_count": null,
   "metadata": {},
   "outputs": [],
   "source": [
    "# import statements\n",
    "import numpy as np\n",
    "import rasterio\n",
    "from scipy.spatial import cKDTree"
   ]
  },
  {
   "cell_type": "code",
   "execution_count": null,
   "metadata": {},
   "outputs": [],
   "source": [
    "# define input/output file paths\n",
    "input_dem = ''    # input Depressionless DEM raster\n",
    "''' rasterized DL data \n",
    "    (this can be recomputed also, \n",
    "    but we have used this from the temp outputs of stream order raster)'''\n",
    "input_dl_raster = ''\n",
    "output_path = ''  "
   ]
  },
  {
   "cell_type": "code",
   "execution_count": null,
   "metadata": {},
   "outputs": [],
   "source": [
    "# Load the elevation raster\n",
    "with rasterio.open(input_dem) as src:\n",
    "    elevation = src.read(1)\n",
    "    elevation_transform = src.transform\n",
    "\n",
    "# Load the drainage lines raster\n",
    "with rasterio.open(input_dl_raster) as src:\n",
    "    drainage_lines = src.read(1)"
   ]
  },
  {
   "cell_type": "code",
   "execution_count": null,
   "metadata": {},
   "outputs": [],
   "source": [
    "\n",
    "# Create a mask for drainage line pixels\n",
    "drainage_line_mask = (drainage_lines > 0)\n",
    "\n",
    "# Get coordinates of all pixels\n",
    "rows, cols = np.indices(elevation.shape)\n",
    "xy_coords = np.column_stack((rows.ravel(), cols.ravel()))\n",
    "\n",
    "# Get drainage line pixels coordinates and their elevations\n",
    "drainage_line_coords = xy_coords[drainage_line_mask.ravel()]\n",
    "drainage_line_elevations = elevation[drainage_line_mask]\n",
    "\n",
    "# Create a k-d tree for fast nearest neighbor search in pixel space\n",
    "tree = cKDTree(drainage_line_coords)\n",
    "\n",
    "# Prepare to store the minimum distances in pixel units\n",
    "min_distances = np.full(elevation.shape, np.inf)\n",
    "\n",
    "# Iterate over all non-drainage pixels\n",
    "non_drainage_mask = ~drainage_line_mask\n",
    "non_drainage_coords = xy_coords[non_drainage_mask.ravel()]\n",
    "\n",
    "for coord in non_drainage_coords:\n",
    "    i, j = coord\n",
    "    current_elevation = elevation[i, j]\n",
    "\n",
    "    # Find drainage line pixels with higher or equal elevation\n",
    "    valid_drainage_mask = drainage_line_elevations >= current_elevation\n",
    "    if np.any(valid_drainage_mask):\n",
    "        valid_drainage_coords = drainage_line_coords[valid_drainage_mask]\n",
    "\n",
    "        # Create a k-d tree for the valid drainage pixels\n",
    "        valid_tree = cKDTree(valid_drainage_coords)\n",
    "\n",
    "        # Find the nearest valid drainage line pixel\n",
    "        dist, idx = valid_tree.query([coord], k=1)\n",
    "        min_distances[i, j] = dist\n",
    "\n",
    "# Round the distances to the nearest integer\n",
    "min_distances_rounded = np.rint(min_distances).astype(np.int32)\n",
    "\n",
    "# Set all distances less than 0 to -1\n",
    "min_distances_rounded[min_distances_rounded < 0] = -1\n",
    "\n",
    "# Save the result to the output raster file\n",
    "with rasterio.open(output_path, 'w', \n",
    "                   driver='GTiff', \n",
    "                   height=elevation.shape[0], \n",
    "                   width=elevation.shape[1], \n",
    "                   count=1, \n",
    "                   dtype=rasterio.int32, \n",
    "                   crs=src.crs, \n",
    "                   transform=src.transform) as dst:\n",
    "    dst.write(min_distances_rounded, 1)"
   ]
  }
 ],
 "metadata": {
  "kernelspec": {
   "display_name": "Python 3",
   "language": "python",
   "name": "python3"
  },
  "language_info": {
   "name": "python",
   "version": "3.9.6"
  }
 },
 "nbformat": 4,
 "nbformat_minor": 2
}
