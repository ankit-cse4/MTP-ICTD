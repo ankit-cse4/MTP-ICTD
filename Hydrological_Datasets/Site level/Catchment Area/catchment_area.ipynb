{
 "cells": [
  {
   "cell_type": "code",
   "execution_count": null,
   "metadata": {},
   "outputs": [],
   "source": [
    "# initialise the qgis application\n",
    "# TODO - please add the path to your qgis installation and then run this script"
   ]
  },
  {
   "cell_type": "code",
   "execution_count": null,
   "metadata": {},
   "outputs": [],
   "source": [
    "# import statements\n",
    "import processing\n",
    "import os\n",
    "from osgeo import gdal, osr\n",
    "import numpy as np"
   ]
  },
  {
   "cell_type": "code",
   "execution_count": null,
   "metadata": {},
   "outputs": [],
   "source": [
    "# Define the input/output paths\n",
    "input_dem = ''   # Depressionless DEM file\n",
    "output_dir = ''  # Output directory path to store the temporary and final outputs\n",
    "\n",
    "# Ensure output directory exists\n",
    "if not os.path.exists(output_dir):\n",
    "    os.makedirs(output_dir)"
   ]
  },
  {
   "cell_type": "markdown",
   "metadata": {},
   "source": [
    "Instead of computing the accumulation i.e. no of incoming pixels flowing into it\n",
    "We can also use this directly from the side-output when we computed the stream raster"
   ]
  },
  {
   "cell_type": "code",
   "execution_count": null,
   "metadata": {},
   "outputs": [],
   "source": [
    "# Define temp path for catchment raster\n",
    "accumulation_path = os.path.join(output_dir, 'accumulation_raster.tif')\n",
    "\n",
    "# Run the processing command\n",
    "processing.run(\"grass:r.watershed\", {\n",
    "    'elevation': input_dem,\n",
    "    'depression': None,\n",
    "    'flow': None,\n",
    "    'disturbed_land': None,\n",
    "    'blocking': None,\n",
    "    'threshold': 100000,\n",
    "    'max_slope_length': None,\n",
    "    'convergence': 5,\n",
    "    'memory': 100000,\n",
    "    '-s': False,\n",
    "    '-m': False,\n",
    "    '-4': False,\n",
    "    '-a': False,\n",
    "    '-b': False,\n",
    "    'accumulation': accumulation_path,\n",
    "    # Map other outputs if required like drainage or stream ...\n",
    "    # 'basin': 'TEMPORARY_OUTPUT',\n",
    "    # 'drainage': 'TEMPORARY_OUTPUT',\n",
    "    # 'stream': 'TEMPORARY_OUTPUT',\n",
    "    'GRASS_REGION_PARAMETER': None,\n",
    "    'GRASS_REGION_CELLSIZE_PARAMETER': 0,\n",
    "    'GRASS_RASTER_FORMAT_OPT': '',\n",
    "    'GRASS_RASTER_FORMAT_META': ''\n",
    "})"
   ]
  },
  {
   "cell_type": "code",
   "execution_count": null,
   "metadata": {
    "vscode": {
     "languageId": "r"
    }
   },
   "outputs": [],
   "source": [
    "# Open the accumulation raster\n",
    "accumulation_ds = gdal.Open(accumulation_path)\n",
    "accumulation_band = accumulation_ds.GetRasterBand(1)\n",
    "accumulation_data = accumulation_band.ReadAsArray()\n",
    "\n",
    "# Multiply by 0.09 to convert to hectares\n",
    "hectares_data = accumulation_data * 0.09\n",
    "\n",
    "# Define the output path for the updated raster\n",
    "hectares_path = os.path.join(output_dir, 'catchment_area_ha.tif')\n",
    "\n",
    "# Create the output raster\n",
    "driver = gdal.GetDriverByName('GTiff')\n",
    "out_ds = driver.Create(hectares_path, accumulation_ds.RasterXSize, accumulation_ds.RasterYSize, 1, gdal.GDT_Float32)\n",
    "out_ds.SetGeoTransform(accumulation_ds.GetGeoTransform())\n",
    "out_ds.SetProjection(accumulation_ds.GetProjection())\n",
    "\n",
    "# Write the updated data to the output raster\n",
    "out_band = out_ds.GetRasterBand(1)\n",
    "out_band.WriteArray(hectares_data)\n",
    "out_band.SetNoDataValue(-9999)\n",
    "\n",
    "# Flush data to disk and close datasets\n",
    "out_band.FlushCache()\n",
    "out_ds = None\n",
    "accumulation_ds = None"
   ]
  }
 ],
 "metadata": {
  "language_info": {
   "name": "python"
  }
 },
 "nbformat": 4,
 "nbformat_minor": 2
}
